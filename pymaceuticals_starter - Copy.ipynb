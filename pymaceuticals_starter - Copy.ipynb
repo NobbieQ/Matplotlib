{
 "cells": [
  {
   "cell_type": "markdown",
   "metadata": {},
   "source": [
    "## Observations and Insights"
   ]
  },
  {
   "cell_type": "markdown",
   "metadata": {},
   "source": []
  },
  {
   "cell_type": "markdown",
   "metadata": {},
   "source": [
    "## Dependencies and starter code"
   ]
  },
  {
   "cell_type": "code",
   "execution_count": 1,
   "metadata": {},
   "outputs": [
    {
     "data": {
      "text/html": [
       "<div>\n",
       "<style scoped>\n",
       "    .dataframe tbody tr th:only-of-type {\n",
       "        vertical-align: middle;\n",
       "    }\n",
       "\n",
       "    .dataframe tbody tr th {\n",
       "        vertical-align: top;\n",
       "    }\n",
       "\n",
       "    .dataframe thead th {\n",
       "        text-align: right;\n",
       "    }\n",
       "</style>\n",
       "<table border=\"1\" class=\"dataframe\">\n",
       "  <thead>\n",
       "    <tr style=\"text-align: right;\">\n",
       "      <th></th>\n",
       "      <th>Mouse ID</th>\n",
       "      <th>Drug Regimen</th>\n",
       "      <th>Sex</th>\n",
       "      <th>Age_months</th>\n",
       "      <th>Weight (g)</th>\n",
       "      <th>Timepoint</th>\n",
       "      <th>Tumor Volume (mm3)</th>\n",
       "      <th>Metastatic Sites</th>\n",
       "    </tr>\n",
       "  </thead>\n",
       "  <tbody>\n",
       "    <tr>\n",
       "      <td>1888</td>\n",
       "      <td>z969</td>\n",
       "      <td>Naftisol</td>\n",
       "      <td>Male</td>\n",
       "      <td>9</td>\n",
       "      <td>30</td>\n",
       "      <td>25</td>\n",
       "      <td>63.145652</td>\n",
       "      <td>2</td>\n",
       "    </tr>\n",
       "    <tr>\n",
       "      <td>1889</td>\n",
       "      <td>z969</td>\n",
       "      <td>Naftisol</td>\n",
       "      <td>Male</td>\n",
       "      <td>9</td>\n",
       "      <td>30</td>\n",
       "      <td>30</td>\n",
       "      <td>65.841013</td>\n",
       "      <td>3</td>\n",
       "    </tr>\n",
       "    <tr>\n",
       "      <td>1890</td>\n",
       "      <td>z969</td>\n",
       "      <td>Naftisol</td>\n",
       "      <td>Male</td>\n",
       "      <td>9</td>\n",
       "      <td>30</td>\n",
       "      <td>35</td>\n",
       "      <td>69.176246</td>\n",
       "      <td>4</td>\n",
       "    </tr>\n",
       "    <tr>\n",
       "      <td>1891</td>\n",
       "      <td>z969</td>\n",
       "      <td>Naftisol</td>\n",
       "      <td>Male</td>\n",
       "      <td>9</td>\n",
       "      <td>30</td>\n",
       "      <td>40</td>\n",
       "      <td>70.314904</td>\n",
       "      <td>4</td>\n",
       "    </tr>\n",
       "    <tr>\n",
       "      <td>1892</td>\n",
       "      <td>z969</td>\n",
       "      <td>Naftisol</td>\n",
       "      <td>Male</td>\n",
       "      <td>9</td>\n",
       "      <td>30</td>\n",
       "      <td>45</td>\n",
       "      <td>73.867845</td>\n",
       "      <td>4</td>\n",
       "    </tr>\n",
       "  </tbody>\n",
       "</table>\n",
       "</div>"
      ],
      "text/plain": [
       "     Mouse ID Drug Regimen   Sex  Age_months  Weight (g)  Timepoint  \\\n",
       "1888     z969     Naftisol  Male           9          30         25   \n",
       "1889     z969     Naftisol  Male           9          30         30   \n",
       "1890     z969     Naftisol  Male           9          30         35   \n",
       "1891     z969     Naftisol  Male           9          30         40   \n",
       "1892     z969     Naftisol  Male           9          30         45   \n",
       "\n",
       "      Tumor Volume (mm3)  Metastatic Sites  \n",
       "1888           63.145652                 2  \n",
       "1889           65.841013                 3  \n",
       "1890           69.176246                 4  \n",
       "1891           70.314904                 4  \n",
       "1892           73.867845                 4  "
      ]
     },
     "execution_count": 1,
     "metadata": {},
     "output_type": "execute_result"
    }
   ],
   "source": [
    "# Dependencies and Setup\n",
    "\n",
    "import matplotlib.pyplot as plt\n",
    "import pandas as pd\n",
    "import scipy.stats as st\n",
    "import numpy as np\n",
    "from scipy.stats import linregress\n",
    "%matplotlib notebook\n",
    "%matplotlib inline\n",
    "\n",
    "# Study data files\n",
    "mouse_metadata = \"data/Mouse_metadata.csv\"\n",
    "study_results = \"data/Study_results.csv\"\n",
    "\n",
    "# Read the mouse data and the study results\n",
    "mouse_metadata = pd.read_csv(mouse_metadata)\n",
    "study_results = pd.read_csv(study_results)\n",
    "\n",
    "# Combine the data into a single dataset\n",
    "combinedmousedf = pd.merge(mouse_metadata, study_results, on=\"Mouse ID\", how='outer')\n",
    "combinedmousedf.tail()"
   ]
  },
  {
   "cell_type": "markdown",
   "metadata": {},
   "source": [
    "## Summary statistics"
   ]
  },
  {
   "cell_type": "code",
   "execution_count": 2,
   "metadata": {},
   "outputs": [
    {
     "data": {
      "text/html": [
       "<div>\n",
       "<style scoped>\n",
       "    .dataframe tbody tr th:only-of-type {\n",
       "        vertical-align: middle;\n",
       "    }\n",
       "\n",
       "    .dataframe tbody tr th {\n",
       "        vertical-align: top;\n",
       "    }\n",
       "\n",
       "    .dataframe thead th {\n",
       "        text-align: right;\n",
       "    }\n",
       "</style>\n",
       "<table border=\"1\" class=\"dataframe\">\n",
       "  <thead>\n",
       "    <tr style=\"text-align: right;\">\n",
       "      <th></th>\n",
       "      <th>Standard Deviation</th>\n",
       "      <th>Mean</th>\n",
       "      <th>Median</th>\n",
       "      <th>Variance</th>\n",
       "      <th>SEM</th>\n",
       "    </tr>\n",
       "    <tr>\n",
       "      <th>Drug Regimen</th>\n",
       "      <th></th>\n",
       "      <th></th>\n",
       "      <th></th>\n",
       "      <th></th>\n",
       "      <th></th>\n",
       "    </tr>\n",
       "  </thead>\n",
       "  <tbody>\n",
       "    <tr>\n",
       "      <td>Capomulin</td>\n",
       "      <td>4.994774</td>\n",
       "      <td>40.675741</td>\n",
       "      <td>41.557809</td>\n",
       "      <td>24.947764</td>\n",
       "      <td>0.329346</td>\n",
       "    </tr>\n",
       "    <tr>\n",
       "      <td>Ceftamin</td>\n",
       "      <td>6.268188</td>\n",
       "      <td>52.591172</td>\n",
       "      <td>51.776157</td>\n",
       "      <td>39.290177</td>\n",
       "      <td>0.469821</td>\n",
       "    </tr>\n",
       "    <tr>\n",
       "      <td>Infubinol</td>\n",
       "      <td>6.567243</td>\n",
       "      <td>52.884795</td>\n",
       "      <td>51.820584</td>\n",
       "      <td>43.128684</td>\n",
       "      <td>0.492236</td>\n",
       "    </tr>\n",
       "    <tr>\n",
       "      <td>Ketapril</td>\n",
       "      <td>8.279709</td>\n",
       "      <td>55.235638</td>\n",
       "      <td>53.698743</td>\n",
       "      <td>68.553577</td>\n",
       "      <td>0.603860</td>\n",
       "    </tr>\n",
       "    <tr>\n",
       "      <td>Naftisol</td>\n",
       "      <td>8.134708</td>\n",
       "      <td>54.331565</td>\n",
       "      <td>52.509285</td>\n",
       "      <td>66.173479</td>\n",
       "      <td>0.596466</td>\n",
       "    </tr>\n",
       "    <tr>\n",
       "      <td>Placebo</td>\n",
       "      <td>7.821003</td>\n",
       "      <td>54.033581</td>\n",
       "      <td>52.288934</td>\n",
       "      <td>61.168083</td>\n",
       "      <td>0.581331</td>\n",
       "    </tr>\n",
       "    <tr>\n",
       "      <td>Propriva</td>\n",
       "      <td>6.507770</td>\n",
       "      <td>52.322552</td>\n",
       "      <td>50.854632</td>\n",
       "      <td>42.351070</td>\n",
       "      <td>0.512884</td>\n",
       "    </tr>\n",
       "    <tr>\n",
       "      <td>Ramicane</td>\n",
       "      <td>4.846308</td>\n",
       "      <td>40.216745</td>\n",
       "      <td>40.673236</td>\n",
       "      <td>23.486704</td>\n",
       "      <td>0.320955</td>\n",
       "    </tr>\n",
       "    <tr>\n",
       "      <td>Stelasyn</td>\n",
       "      <td>7.710419</td>\n",
       "      <td>54.233149</td>\n",
       "      <td>52.431737</td>\n",
       "      <td>59.450562</td>\n",
       "      <td>0.573111</td>\n",
       "    </tr>\n",
       "    <tr>\n",
       "      <td>Zoniferol</td>\n",
       "      <td>6.966589</td>\n",
       "      <td>53.236507</td>\n",
       "      <td>51.818479</td>\n",
       "      <td>48.533355</td>\n",
       "      <td>0.516398</td>\n",
       "    </tr>\n",
       "  </tbody>\n",
       "</table>\n",
       "</div>"
      ],
      "text/plain": [
       "              Standard Deviation       Mean     Median   Variance       SEM\n",
       "Drug Regimen                                                               \n",
       "Capomulin               4.994774  40.675741  41.557809  24.947764  0.329346\n",
       "Ceftamin                6.268188  52.591172  51.776157  39.290177  0.469821\n",
       "Infubinol               6.567243  52.884795  51.820584  43.128684  0.492236\n",
       "Ketapril                8.279709  55.235638  53.698743  68.553577  0.603860\n",
       "Naftisol                8.134708  54.331565  52.509285  66.173479  0.596466\n",
       "Placebo                 7.821003  54.033581  52.288934  61.168083  0.581331\n",
       "Propriva                6.507770  52.322552  50.854632  42.351070  0.512884\n",
       "Ramicane                4.846308  40.216745  40.673236  23.486704  0.320955\n",
       "Stelasyn                7.710419  54.233149  52.431737  59.450562  0.573111\n",
       "Zoniferol               6.966589  53.236507  51.818479  48.533355  0.516398"
      ]
     },
     "execution_count": 2,
     "metadata": {},
     "output_type": "execute_result"
    }
   ],
   "source": [
    "# Generate a summary statistics table of mean, median, variance, standard deviation, and SEM of the tumor volume for each regimen\n",
    "#get DataFrame of needed columns\n",
    "summarystatdf=combinedmousedf[['Drug Regimen', 'Tumor Volume (mm3)']]\n",
    "\n",
    "#get mean by regiman\n",
    "groupedregimanmean= summarystatdf.groupby(['Drug Regimen']).mean()\n",
    "\n",
    "\n",
    "#get median by regiman\n",
    "groupedregimanmedian= summarystatdf.groupby(['Drug Regimen']).median()\n",
    "groupedregimanmedian\n",
    "\n",
    "#get variance by regiman\n",
    "groupedregimanvar=summarystatdf.groupby(['Drug Regimen']).var()\n",
    "groupedregimanvar\n",
    "\n",
    "#get standard deviation by regiman \n",
    "groupedregimanstd= summarystatdf.groupby(['Drug Regimen']).std()\n",
    "groupedregimanstd\n",
    "\n",
    "#get SEM by regiman\n",
    "groupedregimansem= summarystatdf.groupby(['Drug Regimen']).sem()\n",
    "\n",
    "\n",
    "#add columns to Data Frame\n",
    "groupedregimanstd['Mean']=groupedregimanmean\n",
    "groupedregimanstd['Median']= groupedregimanmedian\n",
    "groupedregimanstd['Variance']= groupedregimanvar\n",
    "groupedregimanstd['SEM']= groupedregimansem\n",
    "\n",
    "#rename column\n",
    "groupedregimanstdrenamed=groupedregimanstd.rename(columns={\"Tumor Volume (mm3)\":\"Standard Deviation\"})\n",
    "groupedregimanstdrenamed\n",
    "\n",
    "\n"
   ]
  },
  {
   "cell_type": "markdown",
   "metadata": {},
   "source": [
    "## Bar plots"
   ]
  },
  {
   "cell_type": "code",
   "execution_count": 3,
   "metadata": {},
   "outputs": [
    {
     "data": {
      "image/png": "[encoded data removed]",
      "text/plain": [
       "<Figure size 432x288 with 1 Axes>"
      ]
     },
     "metadata": {
      "needs_background": "light"
     },
     "output_type": "display_data"
    },
    {
     "data": {
      "text/plain": [
       "<Figure size 432x288 with 0 Axes>"
      ]
     },
     "metadata": {},
     "output_type": "display_data"
    }
   ],
   "source": [
    "# Generate a bar plot showing number of data points for each treatment regimen using pandas\n",
    "\n",
    "#number of data points using count() on previous summarystatdf \n",
    "groupedregiman= summarystatdf.groupby(['Drug Regimen'])\n",
    "groupedregiman2=groupedregiman.count()\n",
    "\n",
    "groupedregiman2renamed=groupedregiman2.rename(columns={\"Tumor Volume (mm3)\":\"Count\"})\n",
    "\n",
    "\n",
    "groupedregiman2renamed.plot(kind=\"bar\", facecolor=\"red\")\n",
    "\n",
    "plt.title(\"Number of Treatments per Regimen\")\n",
    "plt.ylabel(\"Number of Treatments\")\n",
    "plt.xlabel(\"Drug\")\n",
    "plt.show()\n",
    "\n",
    "plt.tight_layout()\n"
   ]
  },
  {
   "cell_type": "code",
   "execution_count": 4,
   "metadata": {},
   "outputs": [
    {
     "data": {
      "image/png": "[encoded data removed]",
      "text/plain": [
       "<Figure size 432x288 with 1 Axes>"
      ]
     },
     "metadata": {
      "needs_background": "light"
     },
     "output_type": "display_data"
    }
   ],
   "source": [
    "# Generate a bar plot showing number of data points for each treatment regimen using pyplot\n",
    "#values for x axis\n",
    "drug=list(groupedregiman2renamed.index.values) \n",
    "#values for y axis\n",
    "count = groupedregiman2renamed['Count'].tolist()\n",
    "\n",
    "x_axis = np.arange(len(drug))\n",
    "\n",
    "plt.bar(x_axis, count, color=\"r\", align=\"center\", label= \"Count\")\n",
    "\n",
    "tick_locations = [value for value in x_axis]\n",
    "plt.xticks(tick_locations, drug, rotation='vertical')\n",
    "\n",
    "\n",
    "plt.title(\"Number of Treatments per Regimen\")\n",
    "plt.ylabel(\"Number of Treatments\")\n",
    "plt.xlabel(\"Drug\")\n",
    "plt.legend(loc=\"upper right\")\n",
    "plt.show()\n"
   ]
  },
  {
   "cell_type": "markdown",
   "metadata": {},
   "source": [
    "## Pie plots"
   ]
  },
  {
   "cell_type": "code",
   "execution_count": 5,
   "metadata": {},
   "outputs": [
    {
     "data": {
      "image/png": "[encoded data removed]",
      "text/plain": [
       "<Figure size 432x288 with 1 Axes>"
      ]
     },
     "metadata": {},
     "output_type": "display_data"
    }
   ],
   "source": [
    "# Generate a pie plot showing the distribution of female versus male mice using pandas\n",
    "\n",
    "#get DataFrame that counts male and female mice\n",
    "groupedsexdf=combinedmousedf[['Sex','Drug Regimen']]\n",
    "\n",
    "#rename Drug Regimen\n",
    "groupedsexdf2= groupedsexdf.rename(columns={\"Drug Regimen\":\"Sex Count\"})\n",
    "\n",
    "#group by sex\n",
    "groupedsexdf3= groupedsexdf2.groupby(['Sex'])\n",
    "\n",
    "#apply count function for sex and save as new dataframe\n",
    "xdf= groupedsexdf3.count()\n",
    "\n",
    "\n",
    "sexpie = xdf.plot(kind=\"pie\", subplots=True, title=\"Male Vs Female Mice Count\")\n",
    "\n",
    "plt.axis(\"equal\")\n",
    "plt.show()\n",
    "\n",
    "\n",
    "\n",
    "\n"
   ]
  },
  {
   "cell_type": "code",
   "execution_count": 6,
   "metadata": {},
   "outputs": [
    {
     "data": {
      "text/plain": [
       "(-1.1045613723658971,\n",
       " 1.1002172082078998,\n",
       " -1.1027130801595115,\n",
       " 1.105172849624489)"
      ]
     },
     "execution_count": 6,
     "metadata": {},
     "output_type": "execute_result"
    },
    {
     "data": {
      "image/png": "[encoded data removed]",
      "text/plain": [
       "<Figure size 432x288 with 1 Axes>"
      ]
     },
     "metadata": {},
     "output_type": "display_data"
    }
   ],
   "source": [
    "# Generate a pie plot showing the distribution of female versus male mice using pyplot\n",
    "# Labels for the sections of our pie chart\n",
    "sex=list(xdf.index.values) \n",
    "\n",
    "\n",
    "#values for y axis\n",
    "count = xdf['Sex Count'].tolist()\n",
    "\n",
    "#The colors of each section of the pie chart\n",
    "colors = [\"blue\", \"orange\"]\n",
    "\n",
    "plt.pie(count, labels=sex, colors=colors,\n",
    "        shadow=True)\n",
    "\n",
    "plt.title(\"Male Vs Female Mice Count\")\n",
    "plt.legend(loc=\"upper right\")\n",
    "\n",
    "plt.axis(\"equal\")\n"
   ]
  },
  {
   "cell_type": "markdown",
   "metadata": {},
   "source": [
    "## Quartiles, outliers and boxplots"
   ]
  },
  {
   "cell_type": "code",
   "execution_count": 7,
   "metadata": {},
   "outputs": [
    {
     "name": "stdout",
     "output_type": "stream",
     "text": [
      "Capomulin data\n",
      "The lower quartile of tumor volume is: 32.37735684\n",
      "The upper quartile of tumor volume is: 40.1592203\n",
      "The interquartile range of tumor volume is: 7.781863460000004\n",
      "The the median of tumor volume is: 38.125164399999996 \n",
      "Values below 20.70456164999999 could be outliers.\n",
      "Values above 51.83201549 could be outliers.\n",
      "--------------------\n",
      "Ramicane data\n",
      "The lower quartile of tumor volume is: 31.56046955\n",
      "The upper quartile of tumor volume is: 40.65900627\n",
      "The interquartile range of tumor volume is: 9.098536719999998\n",
      "The the median of tumor volume is: 36.56165229 \n",
      "Values below 17.912664470000003 could be outliers.\n",
      "Values above 54.30681135 could be outliers.\n",
      "--------------------\n",
      "Infubinol data\n",
      "The lower quartile of tumor volume is: 54.04860769\n",
      "The upper quartile of tumor volume is: 65.52574285\n",
      "The interquartile range of tumor volume is: 11.477135160000003\n",
      "The the median of tumor volume is: 60.16518046 \n",
      "Values below 36.83290494999999 could be outliers.\n",
      "Values above 82.74144559000001 could be outliers.\n",
      "                          Sex  Age_months  Weight (g)  Timepoint  \\\n",
      "Mouse ID Drug Regimen                                              \n",
      "c326     Infubinol     Female          18          25          5   \n",
      "\n",
      "                       Tumor Volume (mm3)  Metastatic Sites  \n",
      "Mouse ID Drug Regimen                                        \n",
      "c326     Infubinol              36.321346                 0  \n",
      "--------------------\n",
      "Ceftamin data\n",
      "The lower quartile of tumor volume is: 48.72207785\n",
      "The upper quartile of tumor volume is: 64.29983003\n",
      "The interquartile range of tumor volume is: 15.577752179999997\n",
      "The the median of tumor volume is: 59.85195552 \n",
      "Values below 25.355449580000002 could be outliers.\n",
      "Values above 87.66645829999999 could be outliers.\n"
     ]
    }
   ],
   "source": [
    "# Calculate the final tumor volume of each mouse across four of the most promising treatment regimens Capomulin, Ramicane, Infubinol, and Ceftamin. \n",
    "# Calculate the quartiles and IQR and quantitatively determine if there are any potential outliers across all four treatment regimens.\n",
    "\n",
    "#filter by four drugs\n",
    "drugfiltereddf= combinedmousedf.loc[(combinedmousedf[\"Drug Regimen\"] == 'Capomulin')  | (combinedmousedf[\"Drug Regimen\"] == 'Ramicane')  | (combinedmousedf[\"Drug Regimen\"] == 'Infubinol')  | (combinedmousedf[\"Drug Regimen\"] == 'Ceftamin')]\n",
    "\n",
    "#group by Mouse ID and Drug\n",
    "groupbygroupby= drugfiltereddf.groupby(['Mouse ID', 'Drug Regimen'])\n",
    "\n",
    "#get last value in each group, which is final tumor volume, saved in new dataframe\n",
    "zyz= groupbygroupby.last()\n",
    "\n",
    "#Capomulin results only in DataFrame\n",
    "capzyz=zyz.filter(like='Cap', axis=0)\n",
    "\n",
    "\n",
    "\n",
    "\n",
    "#quartiles for Capomulin\n",
    "capquartiles = capzyz['Tumor Volume (mm3)'].quantile([.25,.5,.75])\n",
    "\n",
    "caplowerq = capquartiles[0.25]\n",
    "capupperq = capquartiles[0.75]\n",
    "capiqr = capupperq-caplowerq\n",
    "caplower_bound = caplowerq - (1.5*capiqr)\n",
    "capupper_bound = capupperq + (1.5*capiqr)\n",
    "\n",
    "print(\"Capomulin data\")\n",
    "print(f\"The lower quartile of tumor volume is: {caplowerq}\")\n",
    "print(f\"The upper quartile of tumor volume is: {capupperq}\")\n",
    "print(f\"The interquartile range of tumor volume is: {capiqr}\")\n",
    "print(f\"The the median of tumor volume is: {capquartiles[0.5]} \")\n",
    "\n",
    "caplower_bound = caplowerq - (1.5*capiqr)\n",
    "capupper_bound = capupperq + (1.5*capiqr)\n",
    "print(f\"Values below {caplower_bound} could be outliers.\")\n",
    "print(f\"Values above {capupper_bound} could be outliers.\")\n",
    "\n",
    "\n",
    "\n",
    "print('--------------------')\n",
    "\n",
    "#Ramicane results only in DataFrame\n",
    "ramzyz=zyz.filter(like='Ramicane', axis=0)\n",
    "\n",
    "\n",
    "\n",
    "\n",
    "#quartiles for Ramicane\n",
    "ramquartiles =ramzyz['Tumor Volume (mm3)'].quantile([.25,.5,.75])\n",
    "\n",
    "ramlowerq = ramquartiles[0.25]\n",
    "ramupperq = ramquartiles[0.75]\n",
    "ramiqr = ramupperq-ramlowerq\n",
    "ramlower_bound = ramlowerq - (1.5*ramiqr)\n",
    "ramupper_bound = ramupperq + (1.5*ramiqr)\n",
    "\n",
    "print(\"Ramicane data\")\n",
    "print(f\"The lower quartile of tumor volume is: {ramlowerq}\")\n",
    "print(f\"The upper quartile of tumor volume is: {ramupperq}\")\n",
    "print(f\"The interquartile range of tumor volume is: {ramiqr}\")\n",
    "print(f\"The the median of tumor volume is: {ramquartiles[0.5]} \")\n",
    "\n",
    "ramlower_bound = ramlowerq - (1.5*ramiqr)\n",
    "ramupper_bound = ramupperq + (1.5*ramiqr)\n",
    "print(f\"Values below {ramlower_bound} could be outliers.\")\n",
    "print(f\"Values above {ramupper_bound} could be outliers.\")\n",
    "\n",
    "\n",
    "print('--------------------')\n",
    "\n",
    "#Infubinol results only in DataFrame\n",
    "infzyz=zyz.filter(like='Infubinol', axis=0)\n",
    "\n",
    "\n",
    "#quartiles for Infubinol\n",
    "infquartiles =infzyz['Tumor Volume (mm3)'].quantile([.25,.5,.75])\n",
    "\n",
    "inflowerq = infquartiles[0.25]\n",
    "infupperq = infquartiles[0.75]\n",
    "infiqr = infupperq-inflowerq\n",
    "inflower_bound = inflowerq - (1.5*infiqr)\n",
    "infupper_bound = infupperq + (1.5*infiqr)\n",
    "\n",
    "print(\"Infubinol data\")\n",
    "print(f\"The lower quartile of tumor volume is: {inflowerq}\")\n",
    "print(f\"The upper quartile of tumor volume is: {infupperq}\")\n",
    "print(f\"The interquartile range of tumor volume is: {infiqr}\")\n",
    "print(f\"The the median of tumor volume is: {infquartiles[0.5]} \")\n",
    "\n",
    "inflower_bound = inflowerq - (1.5*infiqr)\n",
    "infupper_bound = infupperq + (1.5*infiqr)\n",
    "print(f\"Values below {inflower_bound} could be outliers.\")\n",
    "print(f\"Values above {infupper_bound} could be outliers.\")\n",
    "outlierinf = infzyz.loc[(infzyz['Tumor Volume (mm3)'] < inflower_bound) | (infzyz['Tumor Volume (mm3)'] > infupper_bound)]\n",
    "print(outlierinf)\n",
    "\n",
    "print('--------------------')\n",
    "\n",
    "#Ceftamin results only in DataFrame\n",
    "cefzyz=zyz.filter(like='Ceftamin', axis=0)\n",
    "\n",
    "\n",
    "#quartiles for Ceftamin\n",
    "cefquartiles =cefzyz['Tumor Volume (mm3)'].quantile([.25,.5,.75])\n",
    "\n",
    "ceflowerq = cefquartiles[0.25]\n",
    "cefupperq = cefquartiles[0.75]\n",
    "cefiqr = cefupperq-ceflowerq\n",
    "ceflower_bound = ceflowerq - (1.5*cefiqr)\n",
    "cefupper_bound = cefupperq + (1.5*cefiqr)\n",
    "\n",
    "print(\"Ceftamin data\")\n",
    "print(f\"The lower quartile of tumor volume is: {ceflowerq}\")\n",
    "print(f\"The upper quartile of tumor volume is: {cefupperq}\")\n",
    "print(f\"The interquartile range of tumor volume is: {cefiqr}\")\n",
    "print(f\"The the median of tumor volume is: {cefquartiles[0.5]} \")\n",
    "\n",
    "inflower_bound = ceflowerq - (1.5*cefiqr)\n",
    "infupper_bound = cefupperq + (1.5*cefiqr)\n",
    "print(f\"Values below {ceflower_bound} could be outliers.\")\n",
    "print(f\"Values above {cefupper_bound} could be outliers.\")\n",
    "\n",
    "\n"
   ]
  },
  {
   "cell_type": "code",
   "execution_count": 8,
   "metadata": {
    "scrolled": true
   },
   "outputs": [
    {
     "data": {
      "image/png": "[encoded data removed]",
      "text/plain": [
       "<Figure size 432x288 with 1 Axes>"
      ]
     },
     "metadata": {
      "needs_background": "light"
     },
     "output_type": "display_data"
    }
   ],
   "source": [
    "# Generate a box plot of the final tumor volume of each mouse across four regimens of interest\n",
    "#get Capomulin values\n",
    "capvalues= capzyz['Tumor Volume (mm3)']\n",
    "\n",
    "#get Ramicane values\n",
    "ramvalues= ramzyz['Tumor Volume (mm3)']\n",
    "\n",
    "#get Infubinol values\n",
    "infvalues= infzyz['Tumor Volume (mm3)']\n",
    "\n",
    "#get Ceftamin values\n",
    "cefvalues= cefzyz['Tumor Volume (mm3)']\n",
    "\n",
    "green_diamond = dict(markerfacecolor='g', marker='D')\n",
    "fig1, ax1 = plt.subplots()\n",
    "ax1.set_title('Tumor Volumes for Drug Regimens')\n",
    "ax1.set_ylabel('Tumor Volume (mm3)')\n",
    "bp=ax1.boxplot([capvalues, ramvalues, infvalues, cefvalues])\n",
    "for flier in bp['fliers']:\n",
    "    flier.set(marker='^', color='#e7298a', alpha=15)\n",
    "ax1.set_xticklabels(['Capulin', 'Ramicane', 'Infubinol', 'Ceftamin'])\n",
    "\n",
    "plt.show()\n",
    "\n"
   ]
  },
  {
   "cell_type": "markdown",
   "metadata": {},
   "source": [
    "## Line and scatter plots"
   ]
  },
  {
   "cell_type": "code",
   "execution_count": 9,
   "metadata": {},
   "outputs": [
    {
     "data": {
      "image/png": "[encoded data removed]",
      "text/plain": [
       "<Figure size 432x288 with 1 Axes>"
      ]
     },
     "metadata": {
      "needs_background": "light"
     },
     "output_type": "display_data"
    }
   ],
   "source": [
    "# Generate a line plot of time point versus tumor volume for a mouse treated with Capomulin\n",
    "#filter by Capomulin, get timepoint and tumor volume and Mouse ID columns\n",
    "capfiltereddf= combinedmousedf.loc[(combinedmousedf[\"Drug Regimen\"] == 'Capomulin')] \n",
    "\n",
    "newcapfiltereddf=capfiltereddf[['Mouse ID','Timepoint','Tumor Volume (mm3)']]\n",
    "\n",
    "#filter by mouse ID s185 in new dataFrame\n",
    "\n",
    "capfiltereddfmouse=newcapfiltereddf[capfiltereddf['Mouse ID']== 's185']\n",
    "\n",
    "#get times as list\n",
    "times=capfiltereddfmouse['Timepoint'].tolist()\n",
    "\n",
    "#get average tumor values in list\n",
    "tumorvalues = capfiltereddfmouse['Tumor Volume (mm3)'].tolist()\n",
    "\n",
    "#plot line graph\n",
    "plt.plot(times, tumorvalues, color=\"green\")\n",
    "plt.title(\"Timepoint Vs Tumor Volume for Mouse s185 Capomulin Treatment\")\n",
    "plt.ylabel(\" Tumor Volume (mm3)\")\n",
    "plt.xlabel(\"Time in Secs\")\n",
    "\n",
    "plt.show()\n",
    "\n",
    "\n"
   ]
  },
  {
   "cell_type": "code",
   "execution_count": 10,
   "metadata": {},
   "outputs": [
    {
     "data": {
      "image/png": "[encoded data removed]",
      "text/plain": [
       "<Figure size 432x288 with 1 Axes>"
      ]
     },
     "metadata": {
      "needs_background": "light"
     },
     "output_type": "display_data"
    }
   ],
   "source": [
    "# Generate a scatter plot of mouse weight versus average tumor volume for the Capomulin regimen\n",
    "\n",
    "#get only weight(g) and Tumor volume columns from filtered Capomulin dataFrame\n",
    "weightcapfiltereddf= capfiltereddf[['Weight (g)','Tumor Volume (mm3)']]\n",
    "\n",
    "\n",
    "\n",
    "#group by timepoints, get average tumor volume\n",
    "weightcapfiltereddf= weightcapfiltereddf.groupby(['Weight (g)']).mean()\n",
    "weightcapfiltereddf.head(20)\n",
    "\n",
    "#values for x axis\n",
    "weight=list(weightcapfiltereddf.index.values) \n",
    "#values for y axis\n",
    "volume = weightcapfiltereddf['Tumor Volume (mm3)'].tolist()\n",
    "\n",
    "plt.scatter(weight, volume, marker=\"d\", facecolors=\"red\", edgecolors=\"black\",\n",
    "            s=50, alpha=.75)\n",
    "\n",
    "plt.title(\"Mouse Weight vs. Average Tumor Volume for the Capomulin regimen\")\n",
    "plt.ylabel(\"Avr. Tumor Volume (mm3)\")\n",
    "plt.xlabel(\"Mouse Weight (g)\")\n",
    "\n",
    "plt.show()\n",
    "\n"
   ]
  },
  {
   "cell_type": "code",
   "execution_count": null,
   "metadata": {},
   "outputs": [],
   "source": []
  },
  {
   "cell_type": "code",
   "execution_count": 11,
   "metadata": {},
   "outputs": [
    {
     "name": "stdout",
     "output_type": "stream",
     "text": [
      "The correlation between mouse weight and the average tumor volume for the Capomulin regimen is 0.95\n"
     ]
    },
    {
     "data": {
      "image/png": "[encoded data removed]",
      "text/plain": [
       "<Figure size 432x288 with 1 Axes>"
      ]
     },
     "metadata": {
      "needs_background": "light"
     },
     "output_type": "display_data"
    }
   ],
   "source": [
    "# Calculate the correlation coefficient and linear regression model for mouse weight and average tumor volume for the Capomulin regimen\n",
    "\n",
    "print(f\"The correlation between mouse weight and the average tumor volume for the Capomulin regimen is {round(st.pearsonr(weight,volume)[0],2)}\")\n",
    "\n",
    "\n",
    "#values for x axis\n",
    "weight=list(weightcapfiltereddf.index.values)\n",
    "weight_array = np.array(weight)\n",
    "\n",
    "#values for y axis\n",
    "volume = weightcapfiltereddf['Tumor Volume (mm3)']   \n",
    "\n",
    "\n",
    "\n",
    "(slope, intercept, rvalue, pvalue, stderr) = linregress(weight_array, volume)\n",
    "\n",
    "\n",
    "\n",
    "\n",
    "\n",
    "regress_values = weight_array * slope + intercept\n",
    "line_eq = \"y = \" + str(round(slope,2)) + \"x + \" + str(round(intercept,2))\n",
    "\n",
    "plt.scatter(weight, volume, marker=\"d\", facecolors=\"red\", edgecolors=\"black\",\n",
    "            s=50, alpha=.75)\n",
    "\n",
    "\n",
    "plt.plot(weight_array,regress_values,\"r-\")\n",
    "\n",
    "\n",
    "plt.annotate(line_eq,(20,38),fontsize=15,color=\"red\")\n",
    "plt.title(\"Mouse Weight vs. Average Tumor Volume for the Capomulin regimen\")\n",
    "plt.ylabel(\"Avr. Tumor Volume (mm3)\")\n",
    "plt.xlabel(\"Mouse Weight (g)\")\n",
    "\n",
    "\n",
    "plt.show()\n"
   ]
  },
  {
   "cell_type": "markdown",
   "metadata": {},
   "source": []
  },
  {
   "cell_type": "markdown",
   "metadata": {},
   "source": [
    "Observations:  \n",
    "1) There is a strong positive correlation between mouse weight and tumor volume. The higher the mouse weight, the bigger the tumor size, which makes sense as heavier massed beings would be expected to have bigger tumors  \n",
    "2) There is an inverse relationship between time and tumor volume for mouse S185 undergoing the Capomulin Regimen. So, the more time that passes while the mouse is being treated with Capomulin, the smaller the tumor gets. This gives some evidence of the treatment being effective.  \n",
    "3) Virtually the same number of male and female mice were used in the entire study, with male mice slightly edging out female mice."
   ]
  },
  {
   "cell_type": "code",
   "execution_count": null,
   "metadata": {},
   "outputs": [],
   "source": []
  }
 ],
 "metadata": {
  "anaconda-cloud": {},
  "kernelspec": {
   "display_name": "Python 3",
   "language": "python",
   "name": "python3"
  },
  "language_info": {
   "codemirror_mode": {
    "name": "ipython",
    "version": 3
   },
   "file_extension": ".py",
   "mimetype": "text/x-python",
   "name": "python",
   "nbconvert_exporter": "python",
   "pygments_lexer": "ipython3",
   "version": "3.7.4"
  }
 },
 "nbformat": 4,
 "nbformat_minor": 2
}
